{
 "cells": [
  {
   "cell_type": "markdown",
   "metadata": {},
   "source": [
    "# ORGANICS"
   ]
  },
  {
   "cell_type": "markdown",
   "metadata": {},
   "source": [
    "Анализ данных файла \"ORGANICS.csv\" "
   ]
  },
  {
   "cell_type": "code",
   "execution_count": 1,
   "metadata": {},
   "outputs": [],
   "source": [
    "import numpy as np\n",
    "import pandas as pd\n",
    "import pylab as pl\n",
    "import matplotlib.pyplot as plt\n",
    "plt.style.use('ggplot')\n",
    "%matplotlib inline\n",
    "import seaborn as sns\n",
    "\n",
    "data = pd.read_csv('/Users/giniatullinaalsuzamilevna/Desktop/Data/DATA-ANALYSYS_2-master/Dataset/ORGANICS.csv',encoding=\"cp1251\")"
   ]
  },
  {
   "cell_type": "markdown",
   "metadata": {},
   "source": [
    "Информация о файлe \"ORGANICS.csv\":"
   ]
  },
  {
   "cell_type": "code",
   "execution_count": 2,
   "metadata": {},
   "outputs": [
    {
     "name": "stdout",
     "output_type": "stream",
     "text": [
      "<class 'pandas.core.frame.DataFrame'>\n",
      "RangeIndex: 22223 entries, 0 to 22222\n",
      "Data columns (total 13 columns):\n",
      "ID                 22223 non-null int64\n",
      "DemAffl            21138 non-null float64\n",
      "DemAge             20715 non-null float64\n",
      "DemCluster         21549 non-null float64\n",
      "DemClusterGroup    21549 non-null object\n",
      "DemGender          19711 non-null object\n",
      "DemReg             21758 non-null object\n",
      "DemTVReg           21758 non-null object\n",
      "PromClass          22223 non-null object\n",
      "PromSpend          22223 non-null float64\n",
      "PromTime           21942 non-null float64\n",
      "TargetBuy          22223 non-null int64\n",
      "TargetAmt          22223 non-null int64\n",
      "dtypes: float64(5), int64(3), object(5)\n",
      "memory usage: 2.2+ MB\n"
     ]
    }
   ],
   "source": [
    "data.info()"
   ]
  },
  {
   "cell_type": "markdown",
   "metadata": {},
   "source": [
    "Так как имеем столбцы, которые не имеют отношение к анализу (ID, TargetAmt), то сделаем новый dataframe без них:"
   ]
  },
  {
   "cell_type": "code",
   "execution_count": 3,
   "metadata": {},
   "outputs": [],
   "source": [
    "new_data = data[['DemAffl', 'DemAge', 'DemCluster', 'DemClusterGroup', 'DemGender', 'DemReg', 'DemTVReg', 'PromClass', 'PromSpend', 'PromTime', 'TargetBuy']]"
   ]
  },
  {
   "cell_type": "markdown",
   "metadata": {},
   "source": [
    "Информация об анализируемом dataframe:"
   ]
  },
  {
   "cell_type": "code",
   "execution_count": 4,
   "metadata": {},
   "outputs": [
    {
     "name": "stdout",
     "output_type": "stream",
     "text": [
      "<class 'pandas.core.frame.DataFrame'>\n",
      "RangeIndex: 22223 entries, 0 to 22222\n",
      "Data columns (total 11 columns):\n",
      "DemAffl            21138 non-null float64\n",
      "DemAge             20715 non-null float64\n",
      "DemCluster         21549 non-null float64\n",
      "DemClusterGroup    21549 non-null object\n",
      "DemGender          19711 non-null object\n",
      "DemReg             21758 non-null object\n",
      "DemTVReg           21758 non-null object\n",
      "PromClass          22223 non-null object\n",
      "PromSpend          22223 non-null float64\n",
      "PromTime           21942 non-null float64\n",
      "TargetBuy          22223 non-null int64\n",
      "dtypes: float64(5), int64(1), object(5)\n",
      "memory usage: 1.9+ MB\n"
     ]
    }
   ],
   "source": [
    "new_data.info()"
   ]
  },
  {
   "cell_type": "code",
   "execution_count": 5,
   "metadata": {
    "scrolled": true
   },
   "outputs": [
    {
     "name": "stdout",
     "output_type": "stream",
     "text": [
      "(22223, 11)\n"
     ]
    }
   ],
   "source": [
    "print(new_data.shape)"
   ]
  },
  {
   "cell_type": "markdown",
   "metadata": {},
   "source": [
    "Статистика по значениям признаков:"
   ]
  },
  {
   "cell_type": "code",
   "execution_count": 6,
   "metadata": {},
   "outputs": [
    {
     "data": {
      "text/html": [
       "<div>\n",
       "<style scoped>\n",
       "    .dataframe tbody tr th:only-of-type {\n",
       "        vertical-align: middle;\n",
       "    }\n",
       "\n",
       "    .dataframe tbody tr th {\n",
       "        vertical-align: top;\n",
       "    }\n",
       "\n",
       "    .dataframe thead th {\n",
       "        text-align: right;\n",
       "    }\n",
       "</style>\n",
       "<table border=\"1\" class=\"dataframe\">\n",
       "  <thead>\n",
       "    <tr style=\"text-align: right;\">\n",
       "      <th></th>\n",
       "      <th>DemAffl</th>\n",
       "      <th>DemAge</th>\n",
       "      <th>DemCluster</th>\n",
       "      <th>PromSpend</th>\n",
       "      <th>PromTime</th>\n",
       "      <th>TargetBuy</th>\n",
       "    </tr>\n",
       "  </thead>\n",
       "  <tbody>\n",
       "    <tr>\n",
       "      <td>count</td>\n",
       "      <td>21138.000000</td>\n",
       "      <td>20715.000000</td>\n",
       "      <td>21549.000000</td>\n",
       "      <td>22223.000000</td>\n",
       "      <td>21942.000000</td>\n",
       "      <td>22223.000000</td>\n",
       "    </tr>\n",
       "    <tr>\n",
       "      <td>mean</td>\n",
       "      <td>8.711893</td>\n",
       "      <td>53.797152</td>\n",
       "      <td>27.193652</td>\n",
       "      <td>4420.590041</td>\n",
       "      <td>6.564670</td>\n",
       "      <td>0.247716</td>\n",
       "    </tr>\n",
       "    <tr>\n",
       "      <td>std</td>\n",
       "      <td>3.421125</td>\n",
       "      <td>13.206048</td>\n",
       "      <td>15.751547</td>\n",
       "      <td>7559.047522</td>\n",
       "      <td>4.657113</td>\n",
       "      <td>0.431696</td>\n",
       "    </tr>\n",
       "    <tr>\n",
       "      <td>min</td>\n",
       "      <td>0.000000</td>\n",
       "      <td>18.000000</td>\n",
       "      <td>1.000000</td>\n",
       "      <td>0.010000</td>\n",
       "      <td>0.000000</td>\n",
       "      <td>0.000000</td>\n",
       "    </tr>\n",
       "    <tr>\n",
       "      <td>25%</td>\n",
       "      <td>6.000000</td>\n",
       "      <td>44.000000</td>\n",
       "      <td>14.000000</td>\n",
       "      <td>0.010000</td>\n",
       "      <td>4.000000</td>\n",
       "      <td>0.000000</td>\n",
       "    </tr>\n",
       "    <tr>\n",
       "      <td>50%</td>\n",
       "      <td>8.000000</td>\n",
       "      <td>54.000000</td>\n",
       "      <td>27.000000</td>\n",
       "      <td>2000.000000</td>\n",
       "      <td>5.000000</td>\n",
       "      <td>0.000000</td>\n",
       "    </tr>\n",
       "    <tr>\n",
       "      <td>75%</td>\n",
       "      <td>11.000000</td>\n",
       "      <td>64.000000</td>\n",
       "      <td>38.000000</td>\n",
       "      <td>6000.000000</td>\n",
       "      <td>8.000000</td>\n",
       "      <td>0.000000</td>\n",
       "    </tr>\n",
       "    <tr>\n",
       "      <td>max</td>\n",
       "      <td>34.000000</td>\n",
       "      <td>79.000000</td>\n",
       "      <td>55.000000</td>\n",
       "      <td>296313.850000</td>\n",
       "      <td>39.000000</td>\n",
       "      <td>1.000000</td>\n",
       "    </tr>\n",
       "  </tbody>\n",
       "</table>\n",
       "</div>"
      ],
      "text/plain": [
       "            DemAffl        DemAge    DemCluster      PromSpend      PromTime  \\\n",
       "count  21138.000000  20715.000000  21549.000000   22223.000000  21942.000000   \n",
       "mean       8.711893     53.797152     27.193652    4420.590041      6.564670   \n",
       "std        3.421125     13.206048     15.751547    7559.047522      4.657113   \n",
       "min        0.000000     18.000000      1.000000       0.010000      0.000000   \n",
       "25%        6.000000     44.000000     14.000000       0.010000      4.000000   \n",
       "50%        8.000000     54.000000     27.000000    2000.000000      5.000000   \n",
       "75%       11.000000     64.000000     38.000000    6000.000000      8.000000   \n",
       "max       34.000000     79.000000     55.000000  296313.850000     39.000000   \n",
       "\n",
       "          TargetBuy  \n",
       "count  22223.000000  \n",
       "mean       0.247716  \n",
       "std        0.431696  \n",
       "min        0.000000  \n",
       "25%        0.000000  \n",
       "50%        0.000000  \n",
       "75%        0.000000  \n",
       "max        1.000000  "
      ]
     },
     "execution_count": 6,
     "metadata": {},
     "output_type": "execute_result"
    }
   ],
   "source": [
    "new_data.describe()"
   ]
  },
  {
   "cell_type": "markdown",
   "metadata": {},
   "source": [
    "Проверка корреляции между признаками:"
   ]
  },
  {
   "cell_type": "code",
   "execution_count": 7,
   "metadata": {},
   "outputs": [],
   "source": [
    "data_corr = new_data.corr()"
   ]
  },
  {
   "cell_type": "code",
   "execution_count": 8,
   "metadata": {},
   "outputs": [
    {
     "data": {
      "text/html": [
       "<div>\n",
       "<style scoped>\n",
       "    .dataframe tbody tr th:only-of-type {\n",
       "        vertical-align: middle;\n",
       "    }\n",
       "\n",
       "    .dataframe tbody tr th {\n",
       "        vertical-align: top;\n",
       "    }\n",
       "\n",
       "    .dataframe thead th {\n",
       "        text-align: right;\n",
       "    }\n",
       "</style>\n",
       "<table border=\"1\" class=\"dataframe\">\n",
       "  <thead>\n",
       "    <tr style=\"text-align: right;\">\n",
       "      <th></th>\n",
       "      <th>DemAffl</th>\n",
       "      <th>DemAge</th>\n",
       "      <th>DemCluster</th>\n",
       "      <th>PromSpend</th>\n",
       "      <th>PromTime</th>\n",
       "      <th>TargetBuy</th>\n",
       "    </tr>\n",
       "  </thead>\n",
       "  <tbody>\n",
       "    <tr>\n",
       "      <td>DemAffl</td>\n",
       "      <td>1.000000</td>\n",
       "      <td>-0.137767</td>\n",
       "      <td>0.028571</td>\n",
       "      <td>-0.019621</td>\n",
       "      <td>-0.029736</td>\n",
       "      <td>0.359825</td>\n",
       "    </tr>\n",
       "    <tr>\n",
       "      <td>DemAge</td>\n",
       "      <td>-0.137767</td>\n",
       "      <td>1.000000</td>\n",
       "      <td>-0.172288</td>\n",
       "      <td>0.268434</td>\n",
       "      <td>0.207221</td>\n",
       "      <td>-0.302540</td>\n",
       "    </tr>\n",
       "    <tr>\n",
       "      <td>DemCluster</td>\n",
       "      <td>0.028571</td>\n",
       "      <td>-0.172288</td>\n",
       "      <td>1.000000</td>\n",
       "      <td>-0.108007</td>\n",
       "      <td>-0.054032</td>\n",
       "      <td>0.063521</td>\n",
       "    </tr>\n",
       "    <tr>\n",
       "      <td>PromSpend</td>\n",
       "      <td>-0.019621</td>\n",
       "      <td>0.268434</td>\n",
       "      <td>-0.108007</td>\n",
       "      <td>1.000000</td>\n",
       "      <td>0.033240</td>\n",
       "      <td>-0.079920</td>\n",
       "    </tr>\n",
       "    <tr>\n",
       "      <td>PromTime</td>\n",
       "      <td>-0.029736</td>\n",
       "      <td>0.207221</td>\n",
       "      <td>-0.054032</td>\n",
       "      <td>0.033240</td>\n",
       "      <td>1.000000</td>\n",
       "      <td>-0.053703</td>\n",
       "    </tr>\n",
       "    <tr>\n",
       "      <td>TargetBuy</td>\n",
       "      <td>0.359825</td>\n",
       "      <td>-0.302540</td>\n",
       "      <td>0.063521</td>\n",
       "      <td>-0.079920</td>\n",
       "      <td>-0.053703</td>\n",
       "      <td>1.000000</td>\n",
       "    </tr>\n",
       "  </tbody>\n",
       "</table>\n",
       "</div>"
      ],
      "text/plain": [
       "             DemAffl    DemAge  DemCluster  PromSpend  PromTime  TargetBuy\n",
       "DemAffl     1.000000 -0.137767    0.028571  -0.019621 -0.029736   0.359825\n",
       "DemAge     -0.137767  1.000000   -0.172288   0.268434  0.207221  -0.302540\n",
       "DemCluster  0.028571 -0.172288    1.000000  -0.108007 -0.054032   0.063521\n",
       "PromSpend  -0.019621  0.268434   -0.108007   1.000000  0.033240  -0.079920\n",
       "PromTime   -0.029736  0.207221   -0.054032   0.033240  1.000000  -0.053703\n",
       "TargetBuy   0.359825 -0.302540    0.063521  -0.079920 -0.053703   1.000000"
      ]
     },
     "execution_count": 8,
     "metadata": {},
     "output_type": "execute_result"
    }
   ],
   "source": [
    "data_corr"
   ]
  },
  {
   "cell_type": "markdown",
   "metadata": {},
   "source": [
    "Проверка на наличие пустых значений:"
   ]
  },
  {
   "cell_type": "code",
   "execution_count": 9,
   "metadata": {},
   "outputs": [
    {
     "data": {
      "text/plain": [
       "True"
      ]
     },
     "execution_count": 9,
     "metadata": {},
     "output_type": "execute_result"
    }
   ],
   "source": [
    "new_data.isnull().any().any()"
   ]
  },
  {
   "cell_type": "markdown",
   "metadata": {},
   "source": [
    "Так как имеем пустые значения, проведем анализ для поставленной задачи, по двум ситуациям:\n",
    "    1. Удаление Nan (dropna())\n",
    "    2. Замена Nan усредненными значениями (fillna())"
   ]
  },
  {
   "cell_type": "markdown",
   "metadata": {},
   "source": [
    "## 1. Удаление Nan (dropna())"
   ]
  },
  {
   "cell_type": "markdown",
   "metadata": {},
   "source": [
    "Подготовим данные:"
   ]
  },
  {
   "cell_type": "code",
   "execution_count": 10,
   "metadata": {},
   "outputs": [],
   "source": [
    "data1 = new_data.dropna()"
   ]
  },
  {
   "cell_type": "code",
   "execution_count": 11,
   "metadata": {},
   "outputs": [
    {
     "data": {
      "text/plain": [
       "False"
      ]
     },
     "execution_count": 11,
     "metadata": {},
     "output_type": "execute_result"
    }
   ],
   "source": [
    "data1.isnull().any().any()"
   ]
  },
  {
   "cell_type": "markdown",
   "metadata": {},
   "source": [
    "Выбираем количественные признаки и столбцы:"
   ]
  },
  {
   "cell_type": "code",
   "execution_count": 12,
   "metadata": {},
   "outputs": [
    {
     "name": "stdout",
     "output_type": "stream",
     "text": [
      "       DemAffl  DemAge  DemCluster  PromSpend  PromTime\n",
      "0         10.0    76.0        16.0   16000.00       4.0\n",
      "1          4.0    49.0        35.0    6000.00       5.0\n",
      "2          5.0    70.0        27.0       0.02       8.0\n",
      "3         10.0    65.0        51.0       0.01       7.0\n",
      "4         11.0    68.0         4.0       0.01       8.0\n",
      "...        ...     ...         ...        ...       ...\n",
      "22216     13.0    49.0         8.0     500.00       9.0\n",
      "22218     13.0    65.0         9.0    1500.00       5.0\n",
      "22219     15.0    73.0        34.0    6053.06      12.0\n",
      "22220      9.0    70.0        15.0    6000.00       5.0\n",
      "22221     11.0    66.0         8.0    5000.00       5.0\n",
      "\n",
      "[16408 rows x 5 columns]\n",
      "[0 0 1 ... 0 0 0]\n"
     ]
    }
   ],
   "source": [
    "x = data1[['DemAffl',  'DemAge', 'DemCluster', 'PromSpend', 'PromTime']]\n",
    "y = data1.values[::,10]\n",
    "\n",
    "print(x)\n",
    "print(y)"
   ]
  },
  {
   "cell_type": "markdown",
   "metadata": {},
   "source": [
    "Обучаем дерево:"
   ]
  },
  {
   "cell_type": "code",
   "execution_count": 13,
   "metadata": {},
   "outputs": [],
   "source": [
    "from sklearn.model_selection import train_test_split\n",
    "\n",
    "X_train, X_test, y_train, y_test = train_test_split(x, y, test_size = 0.3)\n",
    "\n",
    "y_train = y_train.astype(int)\n",
    "y_test = y_test.astype(int)"
   ]
  },
  {
   "cell_type": "code",
   "execution_count": 14,
   "metadata": {},
   "outputs": [
    {
     "data": {
      "text/plain": [
       "DecisionTreeClassifier(class_weight=None, criterion='entropy', max_depth=5,\n",
       "                       max_features=None, max_leaf_nodes=None,\n",
       "                       min_impurity_decrease=0.0, min_impurity_split=None,\n",
       "                       min_samples_leaf=1, min_samples_split=2,\n",
       "                       min_weight_fraction_leaf=0.0, presort=False,\n",
       "                       random_state=None, splitter='best')"
      ]
     },
     "execution_count": 14,
     "metadata": {},
     "output_type": "execute_result"
    }
   ],
   "source": [
    "from sklearn.tree import DecisionTreeClassifier\n",
    "\n",
    "tree = DecisionTreeClassifier(max_depth = 5, criterion = 'entropy')\n",
    "tree.fit(X_train, y_train)"
   ]
  },
  {
   "cell_type": "markdown",
   "metadata": {},
   "source": [
    "Визуализируем модель:"
   ]
  },
  {
   "cell_type": "code",
   "execution_count": 15,
   "metadata": {},
   "outputs": [],
   "source": [
    "from sklearn.tree import export_graphviz\n",
    "\n",
    "import subprocess\n",
    "\n",
    "export_graphviz(tree, out_file='/Users/giniatullinaalsuzamilevna/Desktop/Data/DATA-ANALYSYS_2-master/DZ/HW3/Organics_tree.dot', \n",
    "               rounded = True, proportion = False, \n",
    "                precision = 2, filled = True)\n",
    "\n",
    "import pydot \n",
    "(graph, ) = pydot.graph_from_dot_file('/Users/giniatullinaalsuzamilevna/Desktop/Data/DATA-ANALYSYS_2-master/DZ/HW3/Organics_tree.dot')\n",
    "\n",
    "graph.write_png('/Users/giniatullinaalsuzamilevna/Desktop/Data/DATA-ANALYSYS_2-master/DZ/HW3/Organics_tree.png')"
   ]
  },
  {
   "cell_type": "markdown",
   "metadata": {},
   "source": [
    "<img src=\"Organics_tree.png\">"
   ]
  },
  {
   "cell_type": "code",
   "execution_count": 16,
   "metadata": {},
   "outputs": [
    {
     "name": "stdout",
     "output_type": "stream",
     "text": [
      "Отчет о классификации :\n",
      "              precision    recall  f1-score   support\n",
      "\n",
      "           0       0.82      0.93      0.87      3609\n",
      "           1       0.69      0.44      0.54      1314\n",
      "\n",
      "    accuracy                           0.80      4923\n",
      "   macro avg       0.76      0.68      0.70      4923\n",
      "weighted avg       0.79      0.80      0.78      4923\n",
      "\n",
      "Accuracy: 0.7980905951655495\n"
     ]
    }
   ],
   "source": [
    "from sklearn.metrics import classification_report, accuracy_score\n",
    "\n",
    "clf = tree.fit(X_train, y_train)\n",
    "y_pred = clf.predict(X_test)\n",
    "result1 = classification_report(y_test, y_pred)\n",
    "print(\"Отчет о классификации :\",)\n",
    "print (result1)\n",
    "result2 = accuracy_score(y_test,y_pred)\n",
    "print(\"Accuracy:\",result2)"
   ]
  },
  {
   "cell_type": "markdown",
   "metadata": {},
   "source": [
    "Проверяем точность на обучающей и тестовой выборке: "
   ]
  },
  {
   "cell_type": "code",
   "execution_count": 17,
   "metadata": {},
   "outputs": [
    {
     "data": {
      "text/plain": [
       "0.8019155420113191"
      ]
     },
     "execution_count": 17,
     "metadata": {},
     "output_type": "execute_result"
    }
   ],
   "source": [
    "tree.score(X_train, y_train) "
   ]
  },
  {
   "cell_type": "code",
   "execution_count": 18,
   "metadata": {},
   "outputs": [
    {
     "data": {
      "text/plain": [
       "0.7980905951655495"
      ]
     },
     "execution_count": 18,
     "metadata": {},
     "output_type": "execute_result"
    }
   ],
   "source": [
    "tree.score(X_test,y_test)"
   ]
  },
  {
   "cell_type": "markdown",
   "metadata": {},
   "source": [
    "Посмотрим как параметры **max_depth** и **min_samples_leaf** влияют на построение дерева:"
   ]
  },
  {
   "cell_type": "markdown",
   "metadata": {},
   "source": [
    "При **max_depth = 10**, **min_samples_leaf = 1**"
   ]
  },
  {
   "cell_type": "code",
   "execution_count": 19,
   "metadata": {},
   "outputs": [
    {
     "data": {
      "text/plain": [
       "DecisionTreeClassifier(class_weight=None, criterion='entropy', max_depth=10,\n",
       "                       max_features=None, max_leaf_nodes=None,\n",
       "                       min_impurity_decrease=0.0, min_impurity_split=None,\n",
       "                       min_samples_leaf=1, min_samples_split=2,\n",
       "                       min_weight_fraction_leaf=0.0, presort=False,\n",
       "                       random_state=None, splitter='best')"
      ]
     },
     "execution_count": 19,
     "metadata": {},
     "output_type": "execute_result"
    }
   ],
   "source": [
    "tree_1 = DecisionTreeClassifier(max_depth = 10, min_samples_leaf = 1, criterion = 'entropy')\n",
    "tree_1.fit(X_train, y_train)"
   ]
  },
  {
   "cell_type": "code",
   "execution_count": 20,
   "metadata": {},
   "outputs": [
    {
     "data": {
      "text/plain": [
       "0.8295167609925991"
      ]
     },
     "execution_count": 20,
     "metadata": {},
     "output_type": "execute_result"
    }
   ],
   "source": [
    "tree_1.score(X_train, y_train) "
   ]
  },
  {
   "cell_type": "code",
   "execution_count": 21,
   "metadata": {},
   "outputs": [
    {
     "data": {
      "text/plain": [
       "0.780418444038188"
      ]
     },
     "execution_count": 21,
     "metadata": {},
     "output_type": "execute_result"
    }
   ],
   "source": [
    "tree_1.score(X_test, y_test) "
   ]
  },
  {
   "cell_type": "markdown",
   "metadata": {},
   "source": [
    "При **max_depth = 10**, **min_samples_leaf = 5**"
   ]
  },
  {
   "cell_type": "code",
   "execution_count": 22,
   "metadata": {},
   "outputs": [
    {
     "data": {
      "text/plain": [
       "DecisionTreeClassifier(class_weight=None, criterion='entropy', max_depth=10,\n",
       "                       max_features=None, max_leaf_nodes=None,\n",
       "                       min_impurity_decrease=0.0, min_impurity_split=None,\n",
       "                       min_samples_leaf=5, min_samples_split=2,\n",
       "                       min_weight_fraction_leaf=0.0, presort=False,\n",
       "                       random_state=None, splitter='best')"
      ]
     },
     "execution_count": 22,
     "metadata": {},
     "output_type": "execute_result"
    }
   ],
   "source": [
    "tree_1_1 = DecisionTreeClassifier(max_depth = 10, min_samples_leaf = 5, criterion = 'entropy')\n",
    "tree_1_1.fit(X_train, y_train)"
   ]
  },
  {
   "cell_type": "code",
   "execution_count": 23,
   "metadata": {},
   "outputs": [
    {
     "data": {
      "text/plain": [
       "0.8265563778841968"
      ]
     },
     "execution_count": 23,
     "metadata": {},
     "output_type": "execute_result"
    }
   ],
   "source": [
    "tree_1_1.score(X_train, y_train) "
   ]
  },
  {
   "cell_type": "code",
   "execution_count": 24,
   "metadata": {},
   "outputs": [
    {
     "data": {
      "text/plain": [
       "0.7859029047328865"
      ]
     },
     "execution_count": 24,
     "metadata": {},
     "output_type": "execute_result"
    }
   ],
   "source": [
    "tree_1_1.score(X_test, y_test) "
   ]
  },
  {
   "cell_type": "markdown",
   "metadata": {},
   "source": [
    "При **max_depth = 15**, **min_samples_leaf = 5**"
   ]
  },
  {
   "cell_type": "code",
   "execution_count": 25,
   "metadata": {},
   "outputs": [
    {
     "data": {
      "text/plain": [
       "DecisionTreeClassifier(class_weight=None, criterion='entropy', max_depth=15,\n",
       "                       max_features=None, max_leaf_nodes=None,\n",
       "                       min_impurity_decrease=0.0, min_impurity_split=None,\n",
       "                       min_samples_leaf=5, min_samples_split=2,\n",
       "                       min_weight_fraction_leaf=0.0, presort=False,\n",
       "                       random_state=None, splitter='best')"
      ]
     },
     "execution_count": 25,
     "metadata": {},
     "output_type": "execute_result"
    }
   ],
   "source": [
    "tree_2 = DecisionTreeClassifier(max_depth = 15, min_samples_leaf = 5, criterion = 'entropy')\n",
    "tree_2.fit(X_train, y_train)"
   ]
  },
  {
   "cell_type": "code",
   "execution_count": 26,
   "metadata": {},
   "outputs": [
    {
     "data": {
      "text/plain": [
       "0.8582498911623857"
      ]
     },
     "execution_count": 26,
     "metadata": {},
     "output_type": "execute_result"
    }
   ],
   "source": [
    "tree_2.score(X_train, y_train) "
   ]
  },
  {
   "cell_type": "code",
   "execution_count": 27,
   "metadata": {},
   "outputs": [
    {
     "data": {
      "text/plain": [
       "0.7574649603900061"
      ]
     },
     "execution_count": 27,
     "metadata": {},
     "output_type": "execute_result"
    }
   ],
   "source": [
    "tree_2.score(X_test, y_test) "
   ]
  },
  {
   "cell_type": "markdown",
   "metadata": {},
   "source": [
    "Влияние **max_depth** на дерево:"
   ]
  },
  {
   "cell_type": "code",
   "execution_count": 33,
   "metadata": {},
   "outputs": [
    {
     "data": {
      "text/html": [
       "<div>\n",
       "<style scoped>\n",
       "    .dataframe tbody tr th:only-of-type {\n",
       "        vertical-align: middle;\n",
       "    }\n",
       "\n",
       "    .dataframe tbody tr th {\n",
       "        vertical-align: top;\n",
       "    }\n",
       "\n",
       "    .dataframe thead th {\n",
       "        text-align: right;\n",
       "    }\n",
       "</style>\n",
       "<table border=\"1\" class=\"dataframe\">\n",
       "  <thead>\n",
       "    <tr style=\"text-align: right;\">\n",
       "      <th></th>\n",
       "      <th>max_depth</th>\n",
       "      <th>train_score</th>\n",
       "      <th>test_score</th>\n",
       "    </tr>\n",
       "  </thead>\n",
       "  <tbody>\n",
       "    <tr>\n",
       "      <td>0</td>\n",
       "      <td>1</td>\n",
       "      <td>0.761167</td>\n",
       "      <td>0.756246</td>\n",
       "    </tr>\n",
       "    <tr>\n",
       "      <td>0</td>\n",
       "      <td>2</td>\n",
       "      <td>0.778755</td>\n",
       "      <td>0.782043</td>\n",
       "    </tr>\n",
       "    <tr>\n",
       "      <td>0</td>\n",
       "      <td>3</td>\n",
       "      <td>0.792773</td>\n",
       "      <td>0.790575</td>\n",
       "    </tr>\n",
       "    <tr>\n",
       "      <td>0</td>\n",
       "      <td>4</td>\n",
       "      <td>0.801393</td>\n",
       "      <td>0.800528</td>\n",
       "    </tr>\n",
       "    <tr>\n",
       "      <td>0</td>\n",
       "      <td>5</td>\n",
       "      <td>0.801916</td>\n",
       "      <td>0.798091</td>\n",
       "    </tr>\n",
       "    <tr>\n",
       "      <td>0</td>\n",
       "      <td>6</td>\n",
       "      <td>0.803309</td>\n",
       "      <td>0.797684</td>\n",
       "    </tr>\n",
       "    <tr>\n",
       "      <td>0</td>\n",
       "      <td>7</td>\n",
       "      <td>0.807227</td>\n",
       "      <td>0.792200</td>\n",
       "    </tr>\n",
       "    <tr>\n",
       "      <td>0</td>\n",
       "      <td>8</td>\n",
       "      <td>0.812103</td>\n",
       "      <td>0.793012</td>\n",
       "    </tr>\n",
       "    <tr>\n",
       "      <td>0</td>\n",
       "      <td>9</td>\n",
       "      <td>0.819068</td>\n",
       "      <td>0.792606</td>\n",
       "    </tr>\n",
       "    <tr>\n",
       "      <td>0</td>\n",
       "      <td>10</td>\n",
       "      <td>0.829952</td>\n",
       "      <td>0.779809</td>\n",
       "    </tr>\n",
       "  </tbody>\n",
       "</table>\n",
       "</div>"
      ],
      "text/plain": [
       "   max_depth  train_score  test_score\n",
       "0          1     0.761167    0.756246\n",
       "0          2     0.778755    0.782043\n",
       "0          3     0.792773    0.790575\n",
       "0          4     0.801393    0.800528\n",
       "0          5     0.801916    0.798091\n",
       "0          6     0.803309    0.797684\n",
       "0          7     0.807227    0.792200\n",
       "0          8     0.812103    0.793012\n",
       "0          9     0.819068    0.792606\n",
       "0         10     0.829952    0.779809"
      ]
     },
     "execution_count": 33,
     "metadata": {},
     "output_type": "execute_result"
    }
   ],
   "source": [
    "max_depth_values = range(1, 11)\n",
    "scores_data = pd.DataFrame()\n",
    "\n",
    "for max_depth in max_depth_values:    \n",
    "    tree = DecisionTreeClassifier(criterion='entropy', max_depth=max_depth)\n",
    "    tree.fit(X_train, y_train)\n",
    "    train_score = tree.score(X_train, y_train)\n",
    "    test_score = tree.score(X_test,y_test)\n",
    "    \n",
    "    temp_score_data = pd.DataFrame({'max_depth': [max_depth], \n",
    "                                    'train_score': [train_score],\n",
    "                                    'test_score': test_score})\n",
    "    scores_data = scores_data.append(temp_score_data)\n",
    "    \n",
    "scores_data"
   ]
  },
  {
   "cell_type": "markdown",
   "metadata": {},
   "source": [
    "# 2. Замена Nan усредненными значениями (fillna())"
   ]
  },
  {
   "cell_type": "markdown",
   "metadata": {},
   "source": [
    "Проведем анализ заменив Nan на усредненое значение:"
   ]
  },
  {
   "cell_type": "code",
   "execution_count": 45,
   "metadata": {},
   "outputs": [],
   "source": [
    "data2 = new_data.fillna(new_data.median(axis=0), axis=0)"
   ]
  },
  {
   "cell_type": "code",
   "execution_count": 46,
   "metadata": {},
   "outputs": [
    {
     "name": "stdout",
     "output_type": "stream",
     "text": [
      "       DemAffl  DemAge  DemCluster  PromSpend  PromTime\n",
      "0         10.0    76.0        16.0   16000.00       4.0\n",
      "1          4.0    49.0        35.0    6000.00       5.0\n",
      "2          5.0    70.0        27.0       0.02       8.0\n",
      "3         10.0    65.0        51.0       0.01       7.0\n",
      "4         11.0    68.0         4.0       0.01       8.0\n",
      "...        ...     ...         ...        ...       ...\n",
      "22218     13.0    65.0         9.0    1500.00       5.0\n",
      "22219     15.0    73.0        34.0    6053.06      12.0\n",
      "22220      9.0    70.0        15.0    6000.00       5.0\n",
      "22221     11.0    66.0         8.0    5000.00       5.0\n",
      "22222      3.0    75.0        53.0    6000.00       2.0\n",
      "\n",
      "[22223 rows x 5 columns]\n",
      "[0 0 1 ... 0 0 0]\n"
     ]
    }
   ],
   "source": [
    "x = data2[['DemAffl',  'DemAge', 'DemCluster', 'PromSpend', 'PromTime']]\n",
    "y = data2.values[::,10]\n",
    "\n",
    "print(x)\n",
    "print(y)"
   ]
  },
  {
   "cell_type": "code",
   "execution_count": 53,
   "metadata": {},
   "outputs": [],
   "source": [
    "from sklearn.model_selection import train_test_split\n",
    "\n",
    "X_train, X_test, y_train, y_test = train_test_split(x, y, test_size = 0.3)\n",
    "\n",
    "y_train = y_train.astype(int)\n",
    "y_test = y_test.astype(int)"
   ]
  },
  {
   "cell_type": "code",
   "execution_count": 54,
   "metadata": {},
   "outputs": [
    {
     "data": {
      "text/plain": [
       "DecisionTreeClassifier(class_weight=None, criterion='entropy', max_depth=5,\n",
       "                       max_features=None, max_leaf_nodes=None,\n",
       "                       min_impurity_decrease=0.0, min_impurity_split=None,\n",
       "                       min_samples_leaf=1, min_samples_split=2,\n",
       "                       min_weight_fraction_leaf=0.0, presort=False,\n",
       "                       random_state=None, splitter='best')"
      ]
     },
     "execution_count": 54,
     "metadata": {},
     "output_type": "execute_result"
    }
   ],
   "source": [
    "from sklearn.tree import DecisionTreeClassifier\n",
    "\n",
    "tree2 = DecisionTreeClassifier(max_depth = 5, criterion = 'entropy')\n",
    "tree2.fit(X_train, y_train)"
   ]
  },
  {
   "cell_type": "code",
   "execution_count": 55,
   "metadata": {},
   "outputs": [
    {
     "data": {
      "text/plain": [
       "0.8077269220879404"
      ]
     },
     "execution_count": 55,
     "metadata": {},
     "output_type": "execute_result"
    }
   ],
   "source": [
    "tree2.score(X_train, y_train) "
   ]
  },
  {
   "cell_type": "code",
   "execution_count": 56,
   "metadata": {},
   "outputs": [
    {
     "data": {
      "text/plain": [
       "0.7939103044847757"
      ]
     },
     "execution_count": 56,
     "metadata": {},
     "output_type": "execute_result"
    }
   ],
   "source": [
    "tree2.score(X_test, y_test) "
   ]
  },
  {
   "cell_type": "code",
   "execution_count": 57,
   "metadata": {},
   "outputs": [
    {
     "name": "stdout",
     "output_type": "stream",
     "text": [
      "Отчет о классификации :\n",
      "              precision    recall  f1-score   support\n",
      "\n",
      "           0       0.81      0.94      0.87      4948\n",
      "           1       0.68      0.38      0.49      1719\n",
      "\n",
      "    accuracy                           0.79      6667\n",
      "   macro avg       0.75      0.66      0.68      6667\n",
      "weighted avg       0.78      0.79      0.77      6667\n",
      "\n",
      "Accuracy: 0.7939103044847757\n"
     ]
    }
   ],
   "source": [
    "clf = tree2.fit(X_train, y_train)\n",
    "y_pred2 = clf.predict(X_test)\n",
    "result1 = classification_report(y_test, y_pred2)\n",
    "print(\"Отчет о классификации :\",)\n",
    "print (result1)\n",
    "result2 = accuracy_score(y_test,y_pred2)\n",
    "print(\"Accuracy:\",result2)"
   ]
  },
  {
   "cell_type": "markdown",
   "metadata": {},
   "source": [
    "# Бинарное кодирование"
   ]
  },
  {
   "cell_type": "code",
   "execution_count": 5,
   "metadata": {},
   "outputs": [
    {
     "name": "stdout",
     "output_type": "stream",
     "text": [
      "['DemClusterGroup', 'DemGender', 'DemReg', 'DemTVReg', 'PromClass']\n"
     ]
    },
    {
     "data": {
      "text/html": [
       "<div>\n",
       "<style scoped>\n",
       "    .dataframe tbody tr th:only-of-type {\n",
       "        vertical-align: middle;\n",
       "    }\n",
       "\n",
       "    .dataframe tbody tr th {\n",
       "        vertical-align: top;\n",
       "    }\n",
       "\n",
       "    .dataframe thead th {\n",
       "        text-align: right;\n",
       "    }\n",
       "</style>\n",
       "<table border=\"1\" class=\"dataframe\">\n",
       "  <thead>\n",
       "    <tr style=\"text-align: right;\">\n",
       "      <th></th>\n",
       "      <th>ID</th>\n",
       "      <th>DemAffl</th>\n",
       "      <th>DemAge</th>\n",
       "      <th>DemCluster</th>\n",
       "      <th>DemClusterGroup</th>\n",
       "      <th>DemGender</th>\n",
       "      <th>DemReg</th>\n",
       "      <th>DemTVReg</th>\n",
       "      <th>PromClass</th>\n",
       "      <th>PromSpend</th>\n",
       "      <th>...</th>\n",
       "      <th>DemTVReg=Ulster</th>\n",
       "      <th>DemTVReg=S West</th>\n",
       "      <th>DemTVReg=Yorkshire</th>\n",
       "      <th>DemTVReg=Border</th>\n",
       "      <th>DemTVReg=N Scot</th>\n",
       "      <th>PromClassN</th>\n",
       "      <th>PromClass=Gold</th>\n",
       "      <th>PromClass=Silver</th>\n",
       "      <th>PromClass=Tin</th>\n",
       "      <th>PromClass=Platinum</th>\n",
       "    </tr>\n",
       "  </thead>\n",
       "  <tbody>\n",
       "    <tr>\n",
       "      <td>0</td>\n",
       "      <td>140</td>\n",
       "      <td>10.0</td>\n",
       "      <td>76.0</td>\n",
       "      <td>16.0</td>\n",
       "      <td>C</td>\n",
       "      <td>U</td>\n",
       "      <td>Midlands</td>\n",
       "      <td>Wales &amp; West</td>\n",
       "      <td>Gold</td>\n",
       "      <td>16000.00</td>\n",
       "      <td>...</td>\n",
       "      <td>0</td>\n",
       "      <td>0</td>\n",
       "      <td>0</td>\n",
       "      <td>0</td>\n",
       "      <td>0</td>\n",
       "      <td>0</td>\n",
       "      <td>1</td>\n",
       "      <td>0</td>\n",
       "      <td>0</td>\n",
       "      <td>0</td>\n",
       "    </tr>\n",
       "    <tr>\n",
       "      <td>1</td>\n",
       "      <td>620</td>\n",
       "      <td>4.0</td>\n",
       "      <td>49.0</td>\n",
       "      <td>35.0</td>\n",
       "      <td>D</td>\n",
       "      <td>U</td>\n",
       "      <td>Midlands</td>\n",
       "      <td>Wales &amp; West</td>\n",
       "      <td>Gold</td>\n",
       "      <td>6000.00</td>\n",
       "      <td>...</td>\n",
       "      <td>0</td>\n",
       "      <td>0</td>\n",
       "      <td>0</td>\n",
       "      <td>0</td>\n",
       "      <td>0</td>\n",
       "      <td>0</td>\n",
       "      <td>1</td>\n",
       "      <td>0</td>\n",
       "      <td>0</td>\n",
       "      <td>0</td>\n",
       "    </tr>\n",
       "    <tr>\n",
       "      <td>2</td>\n",
       "      <td>868</td>\n",
       "      <td>5.0</td>\n",
       "      <td>70.0</td>\n",
       "      <td>27.0</td>\n",
       "      <td>D</td>\n",
       "      <td>F</td>\n",
       "      <td>Midlands</td>\n",
       "      <td>Wales &amp; West</td>\n",
       "      <td>Silver</td>\n",
       "      <td>0.02</td>\n",
       "      <td>...</td>\n",
       "      <td>0</td>\n",
       "      <td>0</td>\n",
       "      <td>0</td>\n",
       "      <td>0</td>\n",
       "      <td>0</td>\n",
       "      <td>2</td>\n",
       "      <td>0</td>\n",
       "      <td>1</td>\n",
       "      <td>0</td>\n",
       "      <td>0</td>\n",
       "    </tr>\n",
       "    <tr>\n",
       "      <td>3</td>\n",
       "      <td>1120</td>\n",
       "      <td>10.0</td>\n",
       "      <td>65.0</td>\n",
       "      <td>51.0</td>\n",
       "      <td>F</td>\n",
       "      <td>M</td>\n",
       "      <td>Midlands</td>\n",
       "      <td>Midlands</td>\n",
       "      <td>Tin</td>\n",
       "      <td>0.01</td>\n",
       "      <td>...</td>\n",
       "      <td>0</td>\n",
       "      <td>0</td>\n",
       "      <td>0</td>\n",
       "      <td>0</td>\n",
       "      <td>0</td>\n",
       "      <td>3</td>\n",
       "      <td>0</td>\n",
       "      <td>0</td>\n",
       "      <td>1</td>\n",
       "      <td>0</td>\n",
       "    </tr>\n",
       "    <tr>\n",
       "      <td>4</td>\n",
       "      <td>2313</td>\n",
       "      <td>11.0</td>\n",
       "      <td>68.0</td>\n",
       "      <td>4.0</td>\n",
       "      <td>A</td>\n",
       "      <td>F</td>\n",
       "      <td>Midlands</td>\n",
       "      <td>Midlands</td>\n",
       "      <td>Tin</td>\n",
       "      <td>0.01</td>\n",
       "      <td>...</td>\n",
       "      <td>0</td>\n",
       "      <td>0</td>\n",
       "      <td>0</td>\n",
       "      <td>0</td>\n",
       "      <td>0</td>\n",
       "      <td>3</td>\n",
       "      <td>0</td>\n",
       "      <td>0</td>\n",
       "      <td>1</td>\n",
       "      <td>0</td>\n",
       "    </tr>\n",
       "    <tr>\n",
       "      <td>...</td>\n",
       "      <td>...</td>\n",
       "      <td>...</td>\n",
       "      <td>...</td>\n",
       "      <td>...</td>\n",
       "      <td>...</td>\n",
       "      <td>...</td>\n",
       "      <td>...</td>\n",
       "      <td>...</td>\n",
       "      <td>...</td>\n",
       "      <td>...</td>\n",
       "      <td>...</td>\n",
       "      <td>...</td>\n",
       "      <td>...</td>\n",
       "      <td>...</td>\n",
       "      <td>...</td>\n",
       "      <td>...</td>\n",
       "      <td>...</td>\n",
       "      <td>...</td>\n",
       "      <td>...</td>\n",
       "      <td>...</td>\n",
       "      <td>...</td>\n",
       "    </tr>\n",
       "    <tr>\n",
       "      <td>22218</td>\n",
       "      <td>52834058</td>\n",
       "      <td>13.0</td>\n",
       "      <td>65.0</td>\n",
       "      <td>9.0</td>\n",
       "      <td>B</td>\n",
       "      <td>F</td>\n",
       "      <td>South East</td>\n",
       "      <td>London</td>\n",
       "      <td>Silver</td>\n",
       "      <td>1500.00</td>\n",
       "      <td>...</td>\n",
       "      <td>0</td>\n",
       "      <td>0</td>\n",
       "      <td>0</td>\n",
       "      <td>0</td>\n",
       "      <td>0</td>\n",
       "      <td>2</td>\n",
       "      <td>0</td>\n",
       "      <td>1</td>\n",
       "      <td>0</td>\n",
       "      <td>0</td>\n",
       "    </tr>\n",
       "    <tr>\n",
       "      <td>22219</td>\n",
       "      <td>52834376</td>\n",
       "      <td>15.0</td>\n",
       "      <td>73.0</td>\n",
       "      <td>34.0</td>\n",
       "      <td>D</td>\n",
       "      <td>U</td>\n",
       "      <td>South East</td>\n",
       "      <td>S &amp; S East</td>\n",
       "      <td>Gold</td>\n",
       "      <td>6053.06</td>\n",
       "      <td>...</td>\n",
       "      <td>0</td>\n",
       "      <td>0</td>\n",
       "      <td>0</td>\n",
       "      <td>0</td>\n",
       "      <td>0</td>\n",
       "      <td>0</td>\n",
       "      <td>1</td>\n",
       "      <td>0</td>\n",
       "      <td>0</td>\n",
       "      <td>0</td>\n",
       "    </tr>\n",
       "    <tr>\n",
       "      <td>22220</td>\n",
       "      <td>52837057</td>\n",
       "      <td>9.0</td>\n",
       "      <td>70.0</td>\n",
       "      <td>15.0</td>\n",
       "      <td>B</td>\n",
       "      <td>F</td>\n",
       "      <td>North</td>\n",
       "      <td>Yorkshire</td>\n",
       "      <td>Gold</td>\n",
       "      <td>6000.00</td>\n",
       "      <td>...</td>\n",
       "      <td>0</td>\n",
       "      <td>0</td>\n",
       "      <td>1</td>\n",
       "      <td>0</td>\n",
       "      <td>0</td>\n",
       "      <td>0</td>\n",
       "      <td>1</td>\n",
       "      <td>0</td>\n",
       "      <td>0</td>\n",
       "      <td>0</td>\n",
       "    </tr>\n",
       "    <tr>\n",
       "      <td>22221</td>\n",
       "      <td>52838096</td>\n",
       "      <td>11.0</td>\n",
       "      <td>66.0</td>\n",
       "      <td>8.0</td>\n",
       "      <td>B</td>\n",
       "      <td>F</td>\n",
       "      <td>North</td>\n",
       "      <td>N West</td>\n",
       "      <td>Silver</td>\n",
       "      <td>5000.00</td>\n",
       "      <td>...</td>\n",
       "      <td>0</td>\n",
       "      <td>0</td>\n",
       "      <td>0</td>\n",
       "      <td>0</td>\n",
       "      <td>0</td>\n",
       "      <td>2</td>\n",
       "      <td>0</td>\n",
       "      <td>1</td>\n",
       "      <td>0</td>\n",
       "      <td>0</td>\n",
       "    </tr>\n",
       "    <tr>\n",
       "      <td>22222</td>\n",
       "      <td>52856469</td>\n",
       "      <td>3.0</td>\n",
       "      <td>75.0</td>\n",
       "      <td>53.0</td>\n",
       "      <td>F</td>\n",
       "      <td>nan</td>\n",
       "      <td>South West</td>\n",
       "      <td>S West</td>\n",
       "      <td>Gold</td>\n",
       "      <td>6000.00</td>\n",
       "      <td>...</td>\n",
       "      <td>0</td>\n",
       "      <td>1</td>\n",
       "      <td>0</td>\n",
       "      <td>0</td>\n",
       "      <td>0</td>\n",
       "      <td>0</td>\n",
       "      <td>1</td>\n",
       "      <td>0</td>\n",
       "      <td>0</td>\n",
       "      <td>0</td>\n",
       "    </tr>\n",
       "  </tbody>\n",
       "</table>\n",
       "<p>22223 rows × 54 columns</p>\n",
       "</div>"
      ],
      "text/plain": [
       "             ID  DemAffl  DemAge  DemCluster DemClusterGroup DemGender  \\\n",
       "0           140     10.0    76.0        16.0               C         U   \n",
       "1           620      4.0    49.0        35.0               D         U   \n",
       "2           868      5.0    70.0        27.0               D         F   \n",
       "3          1120     10.0    65.0        51.0               F         M   \n",
       "4          2313     11.0    68.0         4.0               A         F   \n",
       "...         ...      ...     ...         ...             ...       ...   \n",
       "22218  52834058     13.0    65.0         9.0               B         F   \n",
       "22219  52834376     15.0    73.0        34.0               D         U   \n",
       "22220  52837057      9.0    70.0        15.0               B         F   \n",
       "22221  52838096     11.0    66.0         8.0               B         F   \n",
       "22222  52856469      3.0    75.0        53.0               F       nan   \n",
       "\n",
       "           DemReg      DemTVReg PromClass  PromSpend  ...  DemTVReg=Ulster  \\\n",
       "0        Midlands  Wales & West      Gold   16000.00  ...                0   \n",
       "1        Midlands  Wales & West      Gold    6000.00  ...                0   \n",
       "2        Midlands  Wales & West    Silver       0.02  ...                0   \n",
       "3        Midlands      Midlands       Tin       0.01  ...                0   \n",
       "4        Midlands      Midlands       Tin       0.01  ...                0   \n",
       "...           ...           ...       ...        ...  ...              ...   \n",
       "22218  South East        London    Silver    1500.00  ...                0   \n",
       "22219  South East    S & S East      Gold    6053.06  ...                0   \n",
       "22220       North     Yorkshire      Gold    6000.00  ...                0   \n",
       "22221       North        N West    Silver    5000.00  ...                0   \n",
       "22222  South West        S West      Gold    6000.00  ...                0   \n",
       "\n",
       "       DemTVReg=S West  DemTVReg=Yorkshire  DemTVReg=Border  DemTVReg=N Scot  \\\n",
       "0                    0                   0                0                0   \n",
       "1                    0                   0                0                0   \n",
       "2                    0                   0                0                0   \n",
       "3                    0                   0                0                0   \n",
       "4                    0                   0                0                0   \n",
       "...                ...                 ...              ...              ...   \n",
       "22218                0                   0                0                0   \n",
       "22219                0                   0                0                0   \n",
       "22220                0                   1                0                0   \n",
       "22221                0                   0                0                0   \n",
       "22222                1                   0                0                0   \n",
       "\n",
       "       PromClassN  PromClass=Gold  PromClass=Silver  PromClass=Tin  \\\n",
       "0               0               1                 0              0   \n",
       "1               0               1                 0              0   \n",
       "2               2               0                 1              0   \n",
       "3               3               0                 0              1   \n",
       "4               3               0                 0              1   \n",
       "...           ...             ...               ...            ...   \n",
       "22218           2               0                 1              0   \n",
       "22219           0               1                 0              0   \n",
       "22220           0               1                 0              0   \n",
       "22221           2               0                 1              0   \n",
       "22222           0               1                 0              0   \n",
       "\n",
       "       PromClass=Platinum  \n",
       "0                       0  \n",
       "1                       0  \n",
       "2                       0  \n",
       "3                       0  \n",
       "4                       0  \n",
       "...                   ...  \n",
       "22218                   0  \n",
       "22219                   0  \n",
       "22220                   0  \n",
       "22221                   0  \n",
       "22222                   0  \n",
       "\n",
       "[22223 rows x 54 columns]"
      ]
     },
     "execution_count": 5,
     "metadata": {},
     "output_type": "execute_result"
    }
   ],
   "source": [
    "from sklearn.preprocessing import LabelEncoder\n",
    "\n",
    "categorical_columns = [c for c in data.columns if data[c].dtype.name == 'object']\n",
    "print(categorical_columns)\n",
    "\n",
    "def code_myohe(data, feature):\n",
    "    for i in data[feature].unique():\n",
    "        data[feature + \"=\" + i] = (data[feature] == i).astype(int)\n",
    "        \n",
    "le = LabelEncoder()\n",
    "for c in categorical_columns:\n",
    "    data[c] = data[c].astype(str)\n",
    "    le.fit(data[c])\n",
    "    data[data[c].name +'N'] = le.fit_transform(data[c])\n",
    "    code_myohe(data, c)\n",
    "    \n",
    "data"
   ]
  },
  {
   "cell_type": "markdown",
   "metadata": {},
   "source": [
    "# Вопросы"
   ]
  },
  {
   "cell_type": "markdown",
   "metadata": {},
   "source": [
    "**1.** Что такое решающее дерево? Как по построенному дереву найти прогноз для объекта?"
   ]
  },
  {
   "cell_type": "markdown",
   "metadata": {},
   "source": [
    "Дерево решений - это некий бинарный классификатор. Правила классификации дерева дают прогноз каждому объекту дерева."
   ]
  },
  {
   "cell_type": "markdown",
   "metadata": {},
   "source": [
    "**2.** Зачем в вершинах нужны предикаты? Какие типы предикатов вы знаете? "
   ]
  },
  {
   "cell_type": "markdown",
   "metadata": {},
   "source": [
    "Предикаты - это и есть правила дерева которые делят информацию, они дают классификацию объектам. \n",
    "Предикаты бывают одномерными(сравнивают значение одного из признаков с константой) и многомерными(линейные, метрические)."
   ]
  },
  {
   "cell_type": "markdown",
   "metadata": {},
   "source": [
    "**3.** Почему для любой выборки можно построить решающее дерево, имеющее нулевую ошибку на ней?"
   ]
  },
  {
   "cell_type": "markdown",
   "metadata": {},
   "source": [
    "Для любой выборки можно построить решающее дерево, не допускающее на ней ни одной ошибки(даже с простыми одномерными предикатами). \n",
    "Можно сформировать дерево, в каждом листе которого находится ровно по одному объекту выборки."
   ]
  },
  {
   "cell_type": "markdown",
   "metadata": {},
   "source": [
    "**4.** Почему не рекомендуется строить небинарные деревья (т.е. имеющие больше двух потомков у каждой вершины)?"
   ]
  },
  {
   "cell_type": "markdown",
   "metadata": {},
   "source": [
    "Потому что оценка объектов по одному предикату не даст полного анализа данных."
   ]
  },
  {
   "cell_type": "markdown",
   "metadata": {},
   "source": [
    "**5.** Как устроен жадный алгоритм построения дерева? Какие у него параметры?"
   ]
  },
  {
   "cell_type": "markdown",
   "metadata": {},
   "source": [
    "Жадный алгоритм на каждом шагу делает локально наилучший выбор в надежде, что итоговое решение будет оптимальным. "
   ]
  },
  {
   "cell_type": "markdown",
   "metadata": {},
   "source": [
    "**6.** Зачем нужны критерии информативности?"
   ]
  },
  {
   "cell_type": "markdown",
   "metadata": {},
   "source": [
    "Некий функционал качества. Оценивает качество распределения."
   ]
  }
 ],
 "metadata": {
  "kernelspec": {
   "display_name": "Python 3",
   "language": "python",
   "name": "python3"
  },
  "language_info": {
   "codemirror_mode": {
    "name": "ipython",
    "version": 3
   },
   "file_extension": ".py",
   "mimetype": "text/x-python",
   "name": "python",
   "nbconvert_exporter": "python",
   "pygments_lexer": "ipython3",
   "version": "3.7.4"
  }
 },
 "nbformat": 4,
 "nbformat_minor": 2
}
